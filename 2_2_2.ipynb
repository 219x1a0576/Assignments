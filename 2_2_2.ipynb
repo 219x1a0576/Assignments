{
  "nbformat": 4,
  "nbformat_minor": 0,
  "metadata": {
    "colab": {
      "provenance": [],
      "authorship_tag": "ABX9TyOOlSKG9zprtErB5QnvwgEs",
      "include_colab_link": true
    },
    "kernelspec": {
      "name": "python3",
      "display_name": "Python 3"
    },
    "language_info": {
      "name": "python"
    }
  },
  "cells": [
    {
      "cell_type": "markdown",
      "metadata": {
        "id": "view-in-github",
        "colab_type": "text"
      },
      "source": [
        "<a href=\"https://colab.research.google.com/github/219x1a0576/Assignments/blob/main/2_2_2.ipynb\" target=\"_parent\"><img src=\"https://colab.research.google.com/assets/colab-badge.svg\" alt=\"Open In Colab\"/></a>"
      ]
    },
    {
      "cell_type": "code",
      "execution_count": 1,
      "metadata": {
        "colab": {
          "base_uri": "https://localhost:8080/"
        },
        "id": "Odn5Xi2T3Uo8",
        "outputId": "d53168e6-4a61-44f5-8876-a264629550fd"
      },
      "outputs": [
        {
          "output_type": "stream",
          "name": "stdout",
          "text": [
            "Even numbers: 2\n",
            "Odd numbers: 5\n"
          ]
        }
      ],
      "source": [
        "a=[1,3,5,6,99,134,55]\n",
        "even=0\n",
        "odd=0\n",
        "for n in a:\n",
        "  if n%2==0:\n",
        "    even +=1\n",
        "  else:\n",
        "    odd +=1\n",
        "print(\"Even numbers:\",even)\n",
        "print(\"Odd numbers:\",odd)\n"
      ]
    }
  ]
}