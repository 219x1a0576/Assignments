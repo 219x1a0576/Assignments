{
  "nbformat": 4,
  "nbformat_minor": 0,
  "metadata": {
    "colab": {
      "provenance": [],
      "authorship_tag": "ABX9TyPKCd5LhfrM7dcfPpLSF44r",
      "include_colab_link": true
    },
    "kernelspec": {
      "name": "python3",
      "display_name": "Python 3"
    },
    "language_info": {
      "name": "python"
    }
  },
  "cells": [
    {
      "cell_type": "markdown",
      "metadata": {
        "id": "view-in-github",
        "colab_type": "text"
      },
      "source": [
        "<a href=\"https://colab.research.google.com/github/219x1a0576/Assignments/blob/main/2_2_5.ipynb\" target=\"_parent\"><img src=\"https://colab.research.google.com/assets/colab-badge.svg\" alt=\"Open In Colab\"/></a>"
      ]
    },
    {
      "cell_type": "code",
      "execution_count": 3,
      "metadata": {
        "id": "Vaeg_oJDAMyl",
        "colab": {
          "base_uri": "https://localhost:8080/"
        },
        "outputId": "e03ef6b6-b848-42c4-bb68-19602347a9bb"
      },
      "outputs": [
        {
          "output_type": "stream",
          "name": "stdout",
          "text": [
            "30\n",
            "80\n",
            "31\n",
            "37\n",
            "41\n",
            "43\n",
            "47\n",
            "53\n",
            "59\n",
            "61\n",
            "67\n",
            "71\n",
            "73\n",
            "79\n"
          ]
        }
      ],
      "source": [
        "a= int(input( ))\n",
        "b= int(input( ))\n",
        "for n in range(a,b+1):\n",
        " if n>1:\n",
        "  for i in range(2,n):\n",
        "    if(n%i)==0:\n",
        "      break\n",
        "  else:\n",
        "      print(n)\n"
      ]
    }
  ]
}