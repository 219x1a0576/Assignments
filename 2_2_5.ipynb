{
  "nbformat": 4,
  "nbformat_minor": 0,
  "metadata": {
    "colab": {
      "provenance": [],
      "authorship_tag": "ABX9TyMo1l39VN66dr0atsAN/sJk",
      "include_colab_link": true
    },
    "kernelspec": {
      "name": "python3",
      "display_name": "Python 3"
    },
    "language_info": {
      "name": "python"
    }
  },
  "cells": [
    {
      "cell_type": "markdown",
      "metadata": {
        "id": "view-in-github",
        "colab_type": "text"
      },
      "source": [
        "<a href=\"https://colab.research.google.com/github/219x1a0576/Assignments/blob/main/2_2_5.ipynb\" target=\"_parent\"><img src=\"https://colab.research.google.com/assets/colab-badge.svg\" alt=\"Open In Colab\"/></a>"
      ]
    },
    {
      "cell_type": "code",
      "execution_count": null,
      "metadata": {
        "id": "Vaeg_oJDAMyl"
      },
      "outputs": [],
      "source": [
        "a= int(input( ))\n",
        "b= int(input( ))\n",
        "for n in range(a,b+1):\n",
        " if n>1:\n",
        "  for i in range(2,n):\n",
        "    if(n%i)==0:\n",
        "      break\n",
        "    else:\n",
        "      print(num)\n"
      ]
    }
  ]
}