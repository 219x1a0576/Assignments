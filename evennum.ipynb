{
  "nbformat": 4,
  "nbformat_minor": 0,
  "metadata": {
    "colab": {
      "provenance": [],
      "authorship_tag": "ABX9TyMsZnk3RnCcNaS8HNs/DC2U",
      "include_colab_link": true
    },
    "kernelspec": {
      "name": "python3",
      "display_name": "Python 3"
    },
    "language_info": {
      "name": "python"
    }
  },
  "cells": [
    {
      "cell_type": "markdown",
      "metadata": {
        "id": "view-in-github",
        "colab_type": "text"
      },
      "source": [
        "<a href=\"https://colab.research.google.com/github/219x1a0576/Assignments/blob/main/evennum.ipynb\" target=\"_parent\"><img src=\"https://colab.research.google.com/assets/colab-badge.svg\" alt=\"Open In Colab\"/></a>"
      ]
    },
    {
      "cell_type": "code",
      "execution_count": 1,
      "metadata": {
        "colab": {
          "base_uri": "https://localhost:8080/"
        },
        "id": "Jnggq2cst5nm",
        "outputId": "3b90fbfa-6f90-49cf-ab29-64580caa9533"
      },
      "outputs": [
        {
          "output_type": "stream",
          "name": "stdout",
          "text": [
            "02468101214161820222426283032343638404244464850525456586062646668707274767880828486889092949698100"
          ]
        }
      ],
      "source": [
        "start = 0\n",
        "end = 100\n",
        "for num in range(start,end + 1):\n",
        "  if num % 2 == 0:\n",
        "    print(num,end=\"\")"
      ]
    }
  ]
}